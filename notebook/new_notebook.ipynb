{
    "cells": [
        {
            "cell_type": "code",
            "execution_count": 1,
            "id": "f0d62923",
            "metadata": {
                "colab": {
                    "base_uri": "https://localhost:8080/"
                },
                "id": "f0d62923",
                "executionInfo": {
                    "status": "ok",
                    "timestamp": 1702378615482,
                    "user_tz": -330,
                    "elapsed": 37765,
                    "user": {
                        "displayName": "",
                        "userId": ""
                    }
                },
                "outputId": "28707a19-b1ed-4f86-c947-31ab1d67cfdc"
            },
            "outputs": [
                {
                    "output_type": "stream",
                    "name": "stdout",
                    "text": [
                        "Collecting mlflow\n",
                        "  Downloading mlflow-2.9.1-py3-none-any.whl (19.1 MB)\n",
                        "\u001b[2K     \u001b[90m\u2501\u2501\u2501\u2501\u2501\u2501\u2501\u2501\u2501\u2501\u2501\u2501\u2501\u2501\u2501\u2501\u2501\u2501\u2501\u2501\u2501\u2501\u2501\u2501\u2501\u2501\u2501\u2501\u2501\u2501\u2501\u2501\u2501\u2501\u2501\u2501\u2501\u2501\u2501\u2501\u001b[0m \u001b[32m19.1/19.1 MB\u001b[0m \u001b[31m45.5 MB/s\u001b[0m eta \u001b[36m0:00:00\u001b[0m\n",
                        "\u001b[?25hCollecting dagshub\n",
                        "  Downloading dagshub-0.3.11-py3-none-any.whl (196 kB)\n",
                        "\u001b[2K     \u001b[90m\u2501\u2501\u2501\u2501\u2501\u2501\u2501\u2501\u2501\u2501\u2501\u2501\u2501\u2501\u2501\u2501\u2501\u2501\u2501\u2501\u2501\u2501\u2501\u2501\u2501\u2501\u2501\u2501\u2501\u2501\u2501\u2501\u2501\u2501\u2501\u2501\u2501\u2501\u2501\u2501\u001b[0m \u001b[32m196.7/196.7 kB\u001b[0m \u001b[31m16.5 MB/s\u001b[0m eta \u001b[36m0:00:00\u001b[0m\n",
                        "\u001b[?25hRequirement already satisfied: click<9,>=7.0 in /usr/local/lib/python3.10/dist-packages (from mlflow) (8.1.7)\n",
                        "Requirement already satisfied: cloudpickle<4 in /usr/local/lib/python3.10/dist-packages (from mlflow) (2.2.1)\n",
                        "Collecting databricks-cli<1,>=0.8.7 (from mlflow)\n",
                        "  Downloading databricks_cli-0.18.0-py2.py3-none-any.whl (150 kB)\n",
                        "\u001b[2K     \u001b[90m\u2501\u2501\u2501\u2501\u2501\u2501\u2501\u2501\u2501\u2501\u2501\u2501\u2501\u2501\u2501\u2501\u2501\u2501\u2501\u2501\u2501\u2501\u2501\u2501\u2501\u2501\u2501\u2501\u2501\u2501\u2501\u2501\u2501\u2501\u2501\u2501\u2501\u2501\u2501\u2501\u001b[0m \u001b[32m150.3/150.3 kB\u001b[0m \u001b[31m16.5 MB/s\u001b[0m eta \u001b[36m0:00:00\u001b[0m\n",
                        "\u001b[?25hRequirement already satisfied: entrypoints<1 in /usr/local/lib/python3.10/dist-packages (from mlflow) (0.4)\n",
                        "Collecting gitpython<4,>=2.1.0 (from mlflow)\n",
                        "  Downloading GitPython-3.1.40-py3-none-any.whl (190 kB)\n",
                        "\u001b[2K     \u001b[90m\u2501\u2501\u2501\u2501\u2501\u2501\u2501\u2501\u2501\u2501\u2501\u2501\u2501\u2501\u2501\u2501\u2501\u2501\u2501\u2501\u2501\u2501\u2501\u2501\u2501\u2501\u2501\u2501\u2501\u2501\u2501\u2501\u2501\u2501\u2501\u2501\u2501\u2501\u2501\u2501\u001b[0m \u001b[32m190.6/190.6 kB\u001b[0m \u001b[31m24.9 MB/s\u001b[0m eta \u001b[36m0:00:00\u001b[0m\n",
                        "\u001b[?25hRequirement already satisfied: pyyaml<7,>=5.1 in /usr/local/lib/python3.10/dist-packages (from mlflow) (6.0.1)\n",
                        "Requirement already satisfied: protobuf<5,>=3.12.0 in /usr/local/lib/python3.10/dist-packages (from mlflow) (3.20.3)\n",
                        "Requirement already satisfied: pytz<2024 in /usr/local/lib/python3.10/dist-packages (from mlflow) (2023.3.post1)\n",
                        "Requirement already satisfied: requests<3,>=2.17.3 in /usr/local/lib/python3.10/dist-packages (from mlflow) (2.31.0)\n",
                        "Requirement already satisfied: packaging<24 in /usr/local/lib/python3.10/dist-packages (from mlflow) (23.2)\n",
                        "Requirement already satisfied: importlib-metadata!=4.7.0,<8,>=3.7.0 in /usr/local/lib/python3.10/dist-packages (from mlflow) (7.0.0)\n",
                        "Requirement already satisfied: sqlparse<1,>=0.4.0 in /usr/local/lib/python3.10/dist-packages (from mlflow) (0.4.4)\n",
                        "Collecting alembic!=1.10.0,<2 (from mlflow)\n",
                        "  Downloading alembic-1.13.0-py3-none-any.whl (230 kB)\n",
                        "\u001b[2K     \u001b[90m\u2501\u2501\u2501\u2501\u2501\u2501\u2501\u2501\u2501\u2501\u2501\u2501\u2501\u2501\u2501\u2501\u2501\u2501\u2501\u2501\u2501\u2501\u2501\u2501\u2501\u2501\u2501\u2501\u2501\u2501\u2501\u2501\u2501\u2501\u2501\u2501\u2501\u2501\u2501\u2501\u001b[0m \u001b[32m230.6/230.6 kB\u001b[0m \u001b[31m27.2 MB/s\u001b[0m eta \u001b[36m0:00:00\u001b[0m\n",
                        "\u001b[?25hCollecting docker<7,>=4.0.0 (from mlflow)\n",
                        "  Downloading docker-6.1.3-py3-none-any.whl (148 kB)\n",
                        "\u001b[2K     \u001b[90m\u2501\u2501\u2501\u2501\u2501\u2501\u2501\u2501\u2501\u2501\u2501\u2501\u2501\u2501\u2501\u2501\u2501\u2501\u2501\u2501\u2501\u2501\u2501\u2501\u2501\u2501\u2501\u2501\u2501\u2501\u2501\u2501\u2501\u2501\u2501\u2501\u2501\u2501\u2501\u2501\u001b[0m \u001b[32m148.1/148.1 kB\u001b[0m \u001b[31m18.0 MB/s\u001b[0m eta \u001b[36m0:00:00\u001b[0m\n",
                        "\u001b[?25hRequirement already satisfied: Flask<4 in /usr/local/lib/python3.10/dist-packages (from mlflow) (2.2.5)\n",
                        "Requirement already satisfied: numpy<2 in /usr/local/lib/python3.10/dist-packages (from mlflow) (1.23.5)\n",
                        "Requirement already satisfied: scipy<2 in /usr/local/lib/python3.10/dist-packages (from mlflow) (1.11.4)\n",
                        "Requirement already satisfied: pandas<3 in /usr/local/lib/python3.10/dist-packages (from mlflow) (1.5.3)\n",
                        "Collecting querystring-parser<2 (from mlflow)\n",
                        "  Downloading querystring_parser-1.2.4-py2.py3-none-any.whl (7.9 kB)\n",
                        "Requirement already satisfied: sqlalchemy<3,>=1.4.0 in /usr/local/lib/python3.10/dist-packages (from mlflow) (2.0.23)\n",
                        "Requirement already satisfied: scikit-learn<2 in /usr/local/lib/python3.10/dist-packages (from mlflow) (1.2.2)\n",
                        "Requirement already satisfied: pyarrow<15,>=4.0.0 in /usr/local/lib/python3.10/dist-packages (from mlflow) (10.0.1)\n",
                        "Requirement already satisfied: markdown<4,>=3.3 in /usr/local/lib/python3.10/dist-packages (from mlflow) (3.5.1)\n",
                        "Requirement already satisfied: matplotlib<4 in /usr/local/lib/python3.10/dist-packages (from mlflow) (3.7.1)\n",
                        "Collecting gunicorn<22 (from mlflow)\n",
                        "  Downloading gunicorn-21.2.0-py3-none-any.whl (80 kB)\n",
                        "\u001b[2K     \u001b[90m\u2501\u2501\u2501\u2501\u2501\u2501\u2501\u2501\u2501\u2501\u2501\u2501\u2501\u2501\u2501\u2501\u2501\u2501\u2501\u2501\u2501\u2501\u2501\u2501\u2501\u2501\u2501\u2501\u2501\u2501\u2501\u2501\u2501\u2501\u2501\u2501\u2501\u2501\u2501\u2501\u001b[0m \u001b[32m80.2/80.2 kB\u001b[0m \u001b[31m11.6 MB/s\u001b[0m eta \u001b[36m0:00:00\u001b[0m\n",
                        "\u001b[?25hRequirement already satisfied: Jinja2<4,>=2.11 in /usr/local/lib/python3.10/dist-packages (from mlflow) (3.1.2)\n",
                        "Collecting fusepy>=3 (from dagshub)\n",
                        "  Downloading fusepy-3.0.1.tar.gz (11 kB)\n",
                        "  Preparing metadata (setup.py) ... \u001b[?25l\u001b[?25hdone\n",
                        "Requirement already satisfied: appdirs>=1.4.4 in /usr/local/lib/python3.10/dist-packages (from dagshub) (1.4.4)\n",
                        "Collecting httpx~=0.23.0 (from dagshub)\n",
                        "  Downloading httpx-0.23.3-py3-none-any.whl (71 kB)\n",
                        "\u001b[2K     \u001b[90m\u2501\u2501\u2501\u2501\u2501\u2501\u2501\u2501\u2501\u2501\u2501\u2501\u2501\u2501\u2501\u2501\u2501\u2501\u2501\u2501\u2501\u2501\u2501\u2501\u2501\u2501\u2501\u2501\u2501\u2501\u2501\u2501\u2501\u2501\u2501\u2501\u2501\u2501\u2501\u2501\u001b[0m \u001b[32m71.5/71.5 kB\u001b[0m \u001b[31m9.6 MB/s\u001b[0m eta \u001b[36m0:00:00\u001b[0m\n",
                        "\u001b[?25hCollecting rich~=13.1.0 (from dagshub)\n",
                        "  Downloading rich-13.1.0-py3-none-any.whl (238 kB)\n",
                        "\u001b[2K     \u001b[90m\u2501\u2501\u2501\u2501\u2501\u2501\u2501\u2501\u2501\u2501\u2501\u2501\u2501\u2501\u2501\u2501\u2501\u2501\u2501\u2501\u2501\u2501\u2501\u2501\u2501\u2501\u2501\u2501\u2501\u2501\u2501\u2501\u2501\u2501\u2501\u2501\u2501\u2501\u2501\u2501\u001b[0m \u001b[32m238.4/238.4 kB\u001b[0m \u001b[31m25.7 MB/s\u001b[0m eta \u001b[36m0:00:00\u001b[0m\n",
                        "\u001b[?25hCollecting dacite~=1.6.0 (from dagshub)\n",
                        "  Downloading dacite-1.6.0-py3-none-any.whl (12 kB)\n",
                        "Requirement already satisfied: tenacity~=8.2.2 in /usr/local/lib/python3.10/dist-packages (from dagshub) (8.2.3)\n",
                        "Collecting gql[requests] (from dagshub)\n",
                        "  Downloading gql-3.4.1-py2.py3-none-any.whl (65 kB)\n",
                        "\u001b[2K     \u001b[90m\u2501\u2501\u2501\u2501\u2501\u2501\u2501\u2501\u2501\u2501\u2501\u2501\u2501\u2501\u2501\u2501\u2501\u2501\u2501\u2501\u2501\u2501\u2501\u2501\u2501\u2501\u2501\u2501\u2501\u2501\u2501\u2501\u2501\u2501\u2501\u2501\u2501\u2501\u2501\u2501\u001b[0m \u001b[32m65.1/65.1 kB\u001b[0m \u001b[31m8.7 MB/s\u001b[0m eta \u001b[36m0:00:00\u001b[0m\n",
                        "\u001b[?25hCollecting dataclasses-json (from dagshub)\n",
                        "  Downloading dataclasses_json-0.6.3-py3-none-any.whl (28 kB)\n",
                        "Collecting treelib~=1.6.4 (from dagshub)\n",
                        "  Downloading treelib-1.6.4-py3-none-any.whl (18 kB)\n",
                        "Collecting pathvalidate~=3.0.0 (from dagshub)\n",
                        "  Downloading pathvalidate-3.0.0-py3-none-any.whl (21 kB)\n",
                        "Requirement already satisfied: python-dateutil in /usr/local/lib/python3.10/dist-packages (from dagshub) (2.8.2)\n",
                        "Collecting Mako (from alembic!=1.10.0,<2->mlflow)\n",
                        "  Downloading Mako-1.3.0-py3-none-any.whl (78 kB)\n",
                        "\u001b[2K     \u001b[90m\u2501\u2501\u2501\u2501\u2501\u2501\u2501\u2501\u2501\u2501\u2501\u2501\u2501\u2501\u2501\u2501\u2501\u2501\u2501\u2501\u2501\u2501\u2501\u2501\u2501\u2501\u2501\u2501\u2501\u2501\u2501\u2501\u2501\u2501\u2501\u2501\u2501\u2501\u2501\u2501\u001b[0m \u001b[32m78.6/78.6 kB\u001b[0m \u001b[31m10.8 MB/s\u001b[0m eta \u001b[36m0:00:00\u001b[0m\n",
                        "\u001b[?25hRequirement already satisfied: typing-extensions>=4 in /usr/local/lib/python3.10/dist-packages (from alembic!=1.10.0,<2->mlflow) (4.5.0)\n",
                        "Requirement already satisfied: pyjwt>=1.7.0 in /usr/lib/python3/dist-packages (from databricks-cli<1,>=0.8.7->mlflow) (2.3.0)\n",
                        "Requirement already satisfied: oauthlib>=3.1.0 in /usr/local/lib/python3.10/dist-packages (from databricks-cli<1,>=0.8.7->mlflow) (3.2.2)\n",
                        "Requirement already satisfied: tabulate>=0.7.7 in /usr/local/lib/python3.10/dist-packages (from databricks-cli<1,>=0.8.7->mlflow) (0.9.0)\n",
                        "Requirement already satisfied: six>=1.10.0 in /usr/local/lib/python3.10/dist-packages (from databricks-cli<1,>=0.8.7->mlflow) (1.16.0)\n",
                        "Requirement already satisfied: urllib3<3,>=1.26.7 in /usr/local/lib/python3.10/dist-packages (from databricks-cli<1,>=0.8.7->mlflow) (2.0.7)\n",
                        "Requirement already satisfied: websocket-client>=0.32.0 in /usr/local/lib/python3.10/dist-packages (from docker<7,>=4.0.0->mlflow) (1.7.0)\n",
                        "Requirement already satisfied: Werkzeug>=2.2.2 in /usr/local/lib/python3.10/dist-packages (from Flask<4->mlflow) (3.0.1)\n",
                        "Requirement already satisfied: itsdangerous>=2.0 in /usr/local/lib/python3.10/dist-packages (from Flask<4->mlflow) (2.1.2)\n",
                        "Collecting gitdb<5,>=4.0.1 (from gitpython<4,>=2.1.0->mlflow)\n",
                        "  Downloading gitdb-4.0.11-py3-none-any.whl (62 kB)\n",
                        "\u001b[2K     \u001b[90m\u2501\u2501\u2501\u2501\u2501\u2501\u2501\u2501\u2501\u2501\u2501\u2501\u2501\u2501\u2501\u2501\u2501\u2501\u2501\u2501\u2501\u2501\u2501\u2501\u2501\u2501\u2501\u2501\u2501\u2501\u2501\u2501\u2501\u2501\u2501\u2501\u2501\u2501\u2501\u2501\u001b[0m \u001b[32m62.7/62.7 kB\u001b[0m \u001b[31m7.6 MB/s\u001b[0m eta \u001b[36m0:00:00\u001b[0m\n",
                        "\u001b[?25hRequirement already satisfied: certifi in /usr/local/lib/python3.10/dist-packages (from httpx~=0.23.0->dagshub) (2023.11.17)\n",
                        "Collecting httpcore<0.17.0,>=0.15.0 (from httpx~=0.23.0->dagshub)\n",
                        "  Downloading httpcore-0.16.3-py3-none-any.whl (69 kB)\n",
                        "\u001b[2K     \u001b[90m\u2501\u2501\u2501\u2501\u2501\u2501\u2501\u2501\u2501\u2501\u2501\u2501\u2501\u2501\u2501\u2501\u2501\u2501\u2501\u2501\u2501\u2501\u2501\u2501\u2501\u2501\u2501\u2501\u2501\u2501\u2501\u2501\u2501\u2501\u2501\u2501\u2501\u2501\u2501\u2501\u001b[0m \u001b[32m69.6/69.6 kB\u001b[0m \u001b[31m8.8 MB/s\u001b[0m eta \u001b[36m0:00:00\u001b[0m\n",
                        "\u001b[?25hCollecting rfc3986[idna2008]<2,>=1.3 (from httpx~=0.23.0->dagshub)\n",
                        "  Downloading rfc3986-1.5.0-py2.py3-none-any.whl (31 kB)\n",
                        "Requirement already satisfied: sniffio in /usr/local/lib/python3.10/dist-packages (from httpx~=0.23.0->dagshub) (1.3.0)\n",
                        "Requirement already satisfied: zipp>=0.5 in /usr/local/lib/python3.10/dist-packages (from importlib-metadata!=4.7.0,<8,>=3.7.0->mlflow) (3.17.0)\n",
                        "Requirement already satisfied: MarkupSafe>=2.0 in /usr/local/lib/python3.10/dist-packages (from Jinja2<4,>=2.11->mlflow) (2.1.3)\n",
                        "Requirement already satisfied: contourpy>=1.0.1 in /usr/local/lib/python3.10/dist-packages (from matplotlib<4->mlflow) (1.2.0)\n",
                        "Requirement already satisfied: cycler>=0.10 in /usr/local/lib/python3.10/dist-packages (from matplotlib<4->mlflow) (0.12.1)\n",
                        "Requirement already satisfied: fonttools>=4.22.0 in /usr/local/lib/python3.10/dist-packages (from matplotlib<4->mlflow) (4.46.0)\n",
                        "Requirement already satisfied: kiwisolver>=1.0.1 in /usr/local/lib/python3.10/dist-packages (from matplotlib<4->mlflow) (1.4.5)\n",
                        "Requirement already satisfied: pillow>=6.2.0 in /usr/local/lib/python3.10/dist-packages (from matplotlib<4->mlflow) (9.4.0)\n",
                        "Requirement already satisfied: pyparsing>=2.3.1 in /usr/local/lib/python3.10/dist-packages (from matplotlib<4->mlflow) (3.1.1)\n",
                        "Requirement already satisfied: charset-normalizer<4,>=2 in /usr/local/lib/python3.10/dist-packages (from requests<3,>=2.17.3->mlflow) (3.3.2)\n",
                        "Requirement already satisfied: idna<4,>=2.5 in /usr/local/lib/python3.10/dist-packages (from requests<3,>=2.17.3->mlflow) (3.6)\n",
                        "Collecting commonmark<0.10.0,>=0.9.0 (from rich~=13.1.0->dagshub)\n",
                        "  Downloading commonmark-0.9.1-py2.py3-none-any.whl (51 kB)\n",
                        "\u001b[2K     \u001b[90m\u2501\u2501\u2501\u2501\u2501\u2501\u2501\u2501\u2501\u2501\u2501\u2501\u2501\u2501\u2501\u2501\u2501\u2501\u2501\u2501\u2501\u2501\u2501\u2501\u2501\u2501\u2501\u2501\u2501\u2501\u2501\u2501\u2501\u2501\u2501\u2501\u2501\u2501\u2501\u2501\u001b[0m \u001b[32m51.1/51.1 kB\u001b[0m \u001b[31m6.0 MB/s\u001b[0m eta \u001b[36m0:00:00\u001b[0m\n",
                        "\u001b[?25hRequirement already satisfied: pygments<3.0.0,>=2.6.0 in /usr/local/lib/python3.10/dist-packages (from rich~=13.1.0->dagshub) (2.16.1)\n",
                        "Requirement already satisfied: joblib>=1.1.1 in /usr/local/lib/python3.10/dist-packages (from scikit-learn<2->mlflow) (1.3.2)\n",
                        "Requirement already satisfied: threadpoolctl>=2.0.0 in /usr/local/lib/python3.10/dist-packages (from scikit-learn<2->mlflow) (3.2.0)\n",
                        "Requirement already satisfied: greenlet!=0.4.17 in /usr/local/lib/python3.10/dist-packages (from sqlalchemy<3,>=1.4.0->mlflow) (3.0.1)\n",
                        "Collecting marshmallow<4.0.0,>=3.18.0 (from dataclasses-json->dagshub)\n",
                        "  Downloading marshmallow-3.20.1-py3-none-any.whl (49 kB)\n",
                        "\u001b[2K     \u001b[90m\u2501\u2501\u2501\u2501\u2501\u2501\u2501\u2501\u2501\u2501\u2501\u2501\u2501\u2501\u2501\u2501\u2501\u2501\u2501\u2501\u2501\u2501\u2501\u2501\u2501\u2501\u2501\u2501\u2501\u2501\u2501\u2501\u2501\u2501\u2501\u2501\u2501\u2501\u2501\u2501\u001b[0m \u001b[32m49.4/49.4 kB\u001b[0m \u001b[31m6.1 MB/s\u001b[0m eta \u001b[36m0:00:00\u001b[0m\n",
                        "\u001b[?25hCollecting typing-inspect<1,>=0.4.0 (from dataclasses-json->dagshub)\n",
                        "  Downloading typing_inspect-0.9.0-py3-none-any.whl (8.8 kB)\n",
                        "Collecting graphql-core<3.3,>=3.2 (from gql[requests]->dagshub)\n",
                        "  Downloading graphql_core-3.2.3-py3-none-any.whl (202 kB)\n",
                        "\u001b[2K     \u001b[90m\u2501\u2501\u2501\u2501\u2501\u2501\u2501\u2501\u2501\u2501\u2501\u2501\u2501\u2501\u2501\u2501\u2501\u2501\u2501\u2501\u2501\u2501\u2501\u2501\u2501\u2501\u2501\u2501\u2501\u2501\u2501\u2501\u2501\u2501\u2501\u2501\u2501\u2501\u2501\u2501\u001b[0m \u001b[32m202.9/202.9 kB\u001b[0m \u001b[31m19.9 MB/s\u001b[0m eta \u001b[36m0:00:00\u001b[0m\n",
                        "\u001b[?25hRequirement already satisfied: yarl<2.0,>=1.6 in /usr/local/lib/python3.10/dist-packages (from gql[requests]->dagshub) (1.9.3)\n",
                        "Collecting backoff<3.0,>=1.11.1 (from gql[requests]->dagshub)\n",
                        "  Downloading backoff-2.2.1-py3-none-any.whl (15 kB)\n",
                        "Collecting requests-toolbelt<1,>=0.9.1 (from gql[requests]->dagshub)\n",
                        "  Downloading requests_toolbelt-0.10.1-py2.py3-none-any.whl (54 kB)\n",
                        "\u001b[2K     \u001b[90m\u2501\u2501\u2501\u2501\u2501\u2501\u2501\u2501\u2501\u2501\u2501\u2501\u2501\u2501\u2501\u2501\u2501\u2501\u2501\u2501\u2501\u2501\u2501\u2501\u2501\u2501\u2501\u2501\u2501\u2501\u2501\u2501\u2501\u2501\u2501\u2501\u2501\u2501\u2501\u2501\u001b[0m \u001b[32m54.5/54.5 kB\u001b[0m \u001b[31m4.2 MB/s\u001b[0m eta \u001b[36m0:00:00\u001b[0m\n",
                        "\u001b[?25hCollecting urllib3<3,>=1.26.7 (from databricks-cli<1,>=0.8.7->mlflow)\n",
                        "  Downloading urllib3-1.26.18-py2.py3-none-any.whl (143 kB)\n",
                        "\u001b[2K     \u001b[90m\u2501\u2501\u2501\u2501\u2501\u2501\u2501\u2501\u2501\u2501\u2501\u2501\u2501\u2501\u2501\u2501\u2501\u2501\u2501\u2501\u2501\u2501\u2501\u2501\u2501\u2501\u2501\u2501\u2501\u2501\u2501\u2501\u2501\u2501\u2501\u2501\u2501\u2501\u2501\u2501\u001b[0m \u001b[32m143.8/143.8 kB\u001b[0m \u001b[31m16.5 MB/s\u001b[0m eta \u001b[36m0:00:00\u001b[0m\n",
                        "\u001b[?25hCollecting smmap<6,>=3.0.1 (from gitdb<5,>=4.0.1->gitpython<4,>=2.1.0->mlflow)\n",
                        "  Downloading smmap-5.0.1-py3-none-any.whl (24 kB)\n",
                        "Collecting h11<0.15,>=0.13 (from httpcore<0.17.0,>=0.15.0->httpx~=0.23.0->dagshub)\n",
                        "  Downloading h11-0.14.0-py3-none-any.whl (58 kB)\n",
                        "\u001b[2K     \u001b[90m\u2501\u2501\u2501\u2501\u2501\u2501\u2501\u2501\u2501\u2501\u2501\u2501\u2501\u2501\u2501\u2501\u2501\u2501\u2501\u2501\u2501\u2501\u2501\u2501\u2501\u2501\u2501\u2501\u2501\u2501\u2501\u2501\u2501\u2501\u2501\u2501\u2501\u2501\u2501\u2501\u001b[0m \u001b[32m58.3/58.3 kB\u001b[0m \u001b[31m7.2 MB/s\u001b[0m eta \u001b[36m0:00:00\u001b[0m\n",
                        "\u001b[?25hRequirement already satisfied: anyio<5.0,>=3.0 in /usr/local/lib/python3.10/dist-packages (from httpcore<0.17.0,>=0.15.0->httpx~=0.23.0->dagshub) (3.7.1)\n",
                        "Collecting mypy-extensions>=0.3.0 (from typing-inspect<1,>=0.4.0->dataclasses-json->dagshub)\n",
                        "  Downloading mypy_extensions-1.0.0-py3-none-any.whl (4.7 kB)\n",
                        "Requirement already satisfied: multidict>=4.0 in /usr/local/lib/python3.10/dist-packages (from yarl<2.0,>=1.6->gql[requests]->dagshub) (6.0.4)\n",
                        "Requirement already satisfied: exceptiongroup in /usr/local/lib/python3.10/dist-packages (from anyio<5.0,>=3.0->httpcore<0.17.0,>=0.15.0->httpx~=0.23.0->dagshub) (1.2.0)\n",
                        "Building wheels for collected packages: fusepy\n",
                        "  Building wheel for fusepy (setup.py) ... \u001b[?25l\u001b[?25hdone\n",
                        "  Created wheel for fusepy: filename=fusepy-3.0.1-py3-none-any.whl size=10487 sha256=16c377e92127cc59bff705b21f11ff8a4fefbb8efd8f984a9a5f68eb18aeb31b\n",
                        "  Stored in directory: /root/.cache/pip/wheels/c0/18/f6/f0d6be9d0435e2677ce5cc758e91da50053dce456a346f08c5\n",
                        "Successfully built fusepy\n",
                        "Installing collected packages: rfc3986, fusepy, commonmark, urllib3, treelib, smmap, rich, querystring-parser, pathvalidate, mypy-extensions, marshmallow, Mako, h11, gunicorn, graphql-core, dacite, backoff, typing-inspect, httpcore, gql, gitdb, alembic, requests-toolbelt, httpx, gitpython, docker, dataclasses-json, databricks-cli, mlflow, dagshub\n",
                        "  Attempting uninstall: urllib3\n",
                        "    Found existing installation: urllib3 2.0.7\n",
                        "    Uninstalling urllib3-2.0.7:\n",
                        "      Successfully uninstalled urllib3-2.0.7\n",
                        "  Attempting uninstall: rich\n",
                        "    Found existing installation: rich 13.7.0\n",
                        "    Uninstalling rich-13.7.0:\n",
                        "      Successfully uninstalled rich-13.7.0\n",
                        "Successfully installed Mako-1.3.0 alembic-1.13.0 backoff-2.2.1 commonmark-0.9.1 dacite-1.6.0 dagshub-0.3.11 databricks-cli-0.18.0 dataclasses-json-0.6.3 docker-6.1.3 fusepy-3.0.1 gitdb-4.0.11 gitpython-3.1.40 gql-3.4.1 graphql-core-3.2.3 gunicorn-21.2.0 h11-0.14.0 httpcore-0.16.3 httpx-0.23.3 marshmallow-3.20.1 mlflow-2.9.1 mypy-extensions-1.0.0 pathvalidate-3.0.0 querystring-parser-1.2.4 requests-toolbelt-0.10.1 rfc3986-1.5.0 rich-13.1.0 smmap-5.0.1 treelib-1.6.4 typing-inspect-0.9.0 urllib3-1.26.18\n"
                    ]
                }
            ],
            "source": [
                "!pip3 install mlflow dagshub"
            ]
        },
        {
            "cell_type": "code",
            "source": [
                " import dagshub\n",
                "import mlflow\n",
                "\n",
                "dagshub.init(\"dagshubtest\", \"deepankar.kotnala\", mlflow=True)\n",
                "mlflow.start_run()\n",
                "\n",
                "\n",
                "mlflow.log_param(\"parameter name \", \"value\")\n",
                "mlflow.log_metric(\"metric name\", 1)\n",
                "\n",
                "mlflow.end_run()"
            ],
            "metadata": {
                "id": "lc6tgVPumQZT",
                "executionInfo": {
                    "status": "ok",
                    "timestamp": 1702379038658,
                    "user_tz": -330,
                    "elapsed": 7862,
                    "user": {
                        "displayName": "",
                        "userId": ""
                    }
                },
                "outputId": "02b8cf13-0807-474c-e5a3-f4537d88b9fe",
                "colab": {
                    "base_uri": "https://localhost:8080/",
                    "height": 177,
                    "referenced_widgets": [
                        "0432c83ac9a44d69988d4d2c8f15708b",
                        "daa7ecd807974e2aadbd4a8394c15b85"
                    ]
                }
            },
            "id": "lc6tgVPumQZT",
            "execution_count": 3,
            "outputs": [
                {
                    "output_type": "display_data",
                    "data": {
                        "text/plain": [
                            "                                       \u001b[1m\u2757\u2757\u2757 AUTHORIZATION REQUIRED \u2757\u2757\u2757\u001b[0m                                        \n"
                        ],
                        "text/html": [
                            "<pre style=\"white-space:pre;overflow-x:auto;line-height:normal;font-family:Menlo,'DejaVu Sans Mono',consolas,'Courier New',monospace\">                                       <span style=\"font-weight: bold\">\u2757\u2757\u2757 AUTHORIZATION REQUIRED \u2757\u2757\u2757</span>                                        \n",
                            "</pre>\n"
                        ]
                    },
                    "metadata": {}
                },
                {
                    "output_type": "display_data",
                    "data": {
                        "text/plain": [
                            "Output()"
                        ],
                        "application/vnd.jupyter.widget-view+json": {
                            "version_major": 2,
                            "version_minor": 0,
                            "model_id": "0432c83ac9a44d69988d4d2c8f15708b"
                        }
                    },
                    "metadata": {}
                },
                {
                    "output_type": "stream",
                    "name": "stdout",
                    "text": [
                        "\n",
                        "\n",
                        "Open the following link in your browser to authorize the client:\n",
                        "https://dagshub.com/login/oauth/authorize?state=7100bba9-b90c-4e98-a056-48b90f352f22&client_id=32b60ba385aa7cecf24046d8195a71c07dd345d9657977863b52e7748e0f0f28&middleman_request_id=a294524163f7481df50b40dfef9236644f62b1b28d801bf7b3bea0d86fef3745\n",
                        "\n",
                        "\n"
                    ]
                },
                {
                    "output_type": "display_data",
                    "data": {
                        "text/plain": [],
                        "text/html": [
                            "<pre style=\"white-space:pre;overflow-x:auto;line-height:normal;font-family:Menlo,'DejaVu Sans Mono',consolas,'Courier New',monospace\"></pre>\n"
                        ]
                    },
                    "metadata": {}
                },
                {
                    "output_type": "display_data",
                    "data": {
                        "text/plain": [
                            "Repository initialized!\n"
                        ],
                        "text/html": [
                            "<pre style=\"white-space:pre;overflow-x:auto;line-height:normal;font-family:Menlo,'DejaVu Sans Mono',consolas,'Courier New',monospace\">Repository initialized!\n",
                            "</pre>\n"
                        ]
                    },
                    "metadata": {}
                }
            ]
        },
        {
            "cell_type": "markdown",
            "id": "fd2e0fe4",
            "metadata": {
                "id": "fd2e0fe4"
            },
            "source": [
                "## Run this to save the notebook to DagsHub \ud83d\udc47"
            ]
        },
        {
            "cell_type": "code",
            "execution_count": null,
            "metadata": {
                "id": "2JvR9_vR4VyK",
                "colab": {
                    "base_uri": "https://localhost:8080/"
                },
                "outputId": "9b97cf9e-29e1-4b7d-e697-a79714501713"
            },
            "outputs": [
                {
                    "output_type": "stream",
                    "name": "stdout",
                    "text": [
                        "Collecting catboost\n",
                        "  Downloading catboost-1.2.2-cp310-cp310-manylinux2014_x86_64.whl (98.7 MB)\n",
                        "\u001b[2K     \u001b[90m\u2501\u2501\u2501\u2501\u2501\u2501\u2501\u2501\u2501\u2501\u2501\u2501\u2501\u2501\u2501\u2501\u2501\u2501\u2501\u2501\u2501\u2501\u2501\u2501\u2501\u2501\u2501\u2501\u2501\u2501\u2501\u2501\u2501\u2501\u2501\u2501\u2501\u2501\u2501\u2501\u001b[0m \u001b[32m98.7/98.7 MB\u001b[0m \u001b[31m2.2 MB/s\u001b[0m eta \u001b[36m0:00:00\u001b[0m\n",
                        "\u001b[?25hRequirement already satisfied: graphviz in /usr/local/lib/python3.10/dist-packages (from catboost) (0.20.1)\n",
                        "Requirement already satisfied: matplotlib in /usr/local/lib/python3.10/dist-packages (from catboost) (3.7.1)\n",
                        "Requirement already satisfied: numpy>=1.16.0 in /usr/local/lib/python3.10/dist-packages (from catboost) (1.23.5)\n",
                        "Requirement already satisfied: pandas>=0.24 in /usr/local/lib/python3.10/dist-packages (from catboost) (1.5.3)\n",
                        "Requirement already satisfied: scipy in /usr/local/lib/python3.10/dist-packages (from catboost) (1.11.4)\n",
                        "Requirement already satisfied: plotly in /usr/local/lib/python3.10/dist-packages (from catboost) (5.15.0)\n",
                        "Requirement already satisfied: six in /usr/local/lib/python3.10/dist-packages (from catboost) (1.16.0)\n",
                        "Requirement already satisfied: python-dateutil>=2.8.1 in /usr/local/lib/python3.10/dist-packages (from pandas>=0.24->catboost) (2.8.2)\n",
                        "Requirement already satisfied: pytz>=2020.1 in /usr/local/lib/python3.10/dist-packages (from pandas>=0.24->catboost) (2023.3.post1)\n",
                        "Requirement already satisfied: contourpy>=1.0.1 in /usr/local/lib/python3.10/dist-packages (from matplotlib->catboost) (1.2.0)\n",
                        "Requirement already satisfied: cycler>=0.10 in /usr/local/lib/python3.10/dist-packages (from matplotlib->catboost) (0.12.1)\n",
                        "Requirement already satisfied: fonttools>=4.22.0 in /usr/local/lib/python3.10/dist-packages (from matplotlib->catboost) (4.46.0)\n",
                        "Requirement already satisfied: kiwisolver>=1.0.1 in /usr/local/lib/python3.10/dist-packages (from matplotlib->catboost) (1.4.5)\n",
                        "Requirement already satisfied: packaging>=20.0 in /usr/local/lib/python3.10/dist-packages (from matplotlib->catboost) (23.2)\n",
                        "Requirement already satisfied: pillow>=6.2.0 in /usr/local/lib/python3.10/dist-packages (from matplotlib->catboost) (9.4.0)\n",
                        "Requirement already satisfied: pyparsing>=2.3.1 in /usr/local/lib/python3.10/dist-packages (from matplotlib->catboost) (3.1.1)\n",
                        "Requirement already satisfied: tenacity>=6.2.0 in /usr/local/lib/python3.10/dist-packages (from plotly->catboost) (8.2.3)\n",
                        "Installing collected packages: catboost\n",
                        "Successfully installed catboost-1.2.2\n"
                    ]
                }
            ],
            "source": [
                "# Install the DagsHub python client\n",
                "!pip install -q dagshub\n",
                "!pip install catboost"
            ],
            "id": "2JvR9_vR4VyK"
        },
        {
            "cell_type": "code",
            "execution_count": null,
            "id": "f7fd65e3",
            "metadata": {
                "id": "f7fd65e3"
            },
            "outputs": [],
            "source": [
                "from dagshub.notebook import save_notebook\n",
                "\n",
                "save_notebook(repo=\"deepankar.kotnala/dagshubtest\", path=\"notebook\")"
            ]
        },
        {
            "cell_type": "code",
            "source": [
                "# Basic Import\n",
                "import numpy as np\n",
                "import pandas as pd\n",
                "import matplotlib.pyplot as plt\n",
                "import seaborn as sns\n",
                "# Modelling\n",
                "from sklearn.metrics import mean_squared_error, r2_score\n",
                "from sklearn.neighbors import KNeighborsRegressor\n",
                "from sklearn.tree import DecisionTreeRegressor\n",
                "from sklearn.ensemble import RandomForestRegressor,AdaBoostRegressor\n",
                "from sklearn.svm import SVR\n",
                "from sklearn.linear_model import LinearRegression, Ridge,Lasso\n",
                "from sklearn.metrics import r2_score, mean_absolute_error, mean_squared_error\n",
                "from sklearn.model_selection import RandomizedSearchCV\n",
                "from catboost import CatBoostRegressor\n",
                "from xgboost import XGBRegressor\n",
                "import warnings"
            ],
            "metadata": {
                "id": "PdeyZjFEhrwg"
            },
            "id": "PdeyZjFEhrwg",
            "execution_count": null,
            "outputs": []
        },
        {
            "cell_type": "code",
            "source": [
                "df = pd.read_csv('data.csv')\n"
            ],
            "metadata": {
                "id": "Rs_L342qhtEK"
            },
            "id": "Rs_L342qhtEK",
            "execution_count": null,
            "outputs": []
        },
        {
            "cell_type": "code",
            "source": [
                "df.head()\n"
            ],
            "metadata": {
                "id": "Tk-KDgfih9Sp"
            },
            "id": "Tk-KDgfih9Sp",
            "execution_count": null,
            "outputs": []
        },
        {
            "cell_type": "markdown",
            "source": [
                "# New Section"
            ],
            "metadata": {
                "id": "bkzaiVj3iHUa"
            },
            "id": "bkzaiVj3iHUa"
        },
        {
            "cell_type": "code",
            "source": [
                "X = df.drop(columns=['math_score'],axis=1)\n"
            ],
            "metadata": {
                "id": "02F-w0iwlPfE"
            },
            "id": "02F-w0iwlPfE",
            "execution_count": null,
            "outputs": []
        },
        {
            "cell_type": "code",
            "source": [
                "X.head()\n"
            ],
            "metadata": {
                "id": "QiLOnA86lQwc"
            },
            "id": "QiLOnA86lQwc",
            "execution_count": null,
            "outputs": []
        },
        {
            "cell_type": "code",
            "source": [
                "y = df['math_score']\n"
            ],
            "metadata": {
                "id": "9havPZv3lRKu"
            },
            "id": "9havPZv3lRKu",
            "execution_count": null,
            "outputs": []
        },
        {
            "cell_type": "code",
            "source": [
                "# Create Column Transformer with 3 types of transformers\n",
                "num_features = X.select_dtypes(exclude=\"object\").columns\n",
                "cat_features = X.select_dtypes(include=\"object\").columns\n",
                "\n",
                "from sklearn.preprocessing import OneHotEncoder, StandardScaler\n",
                "from sklearn.compose import ColumnTransformer\n",
                "\n",
                "numeric_transformer = StandardScaler()\n",
                "oh_transformer = OneHotEncoder()\n",
                "\n",
                "preprocessor = ColumnTransformer(\n",
                "    [\n",
                "        (\"OneHotEncoder\", oh_transformer, cat_features),\n",
                "         (\"StandardScaler\", numeric_transformer, num_features),\n",
                "    ]\n",
                ")"
            ],
            "metadata": {
                "id": "PrTAwdRdlRVT"
            },
            "id": "PrTAwdRdlRVT",
            "execution_count": null,
            "outputs": []
        },
        {
            "cell_type": "code",
            "source": [
                "X = preprocessor.fit_transform(X)\n"
            ],
            "metadata": {
                "id": "nt0XeZPxlRfW"
            },
            "id": "nt0XeZPxlRfW",
            "execution_count": null,
            "outputs": []
        },
        {
            "cell_type": "code",
            "source": [
                "# separate dataset into train and test\n",
                "from sklearn.model_selection import train_test_split\n",
                "X_train, X_test, y_train, y_test = train_test_split(X,y,test_size=0.2,random_state=42)\n",
                "X_train.shape, X_test.shape"
            ],
            "metadata": {
                "id": "I3JPa5RilxRy"
            },
            "id": "I3JPa5RilxRy",
            "execution_count": null,
            "outputs": []
        },
        {
            "cell_type": "code",
            "source": [
                "def evaluate_model(true, predicted):\n",
                "    mae = mean_absolute_error(true, predicted)\n",
                "    mse = mean_squared_error(true, predicted)\n",
                "    rmse = np.sqrt(mean_squared_error(true, predicted))\n",
                "    r2_square = r2_score(true, predicted)\n",
                "    return mae, rmse, r2_square"
            ],
            "metadata": {
                "id": "JRw0S65XlxyJ"
            },
            "id": "JRw0S65XlxyJ",
            "execution_count": null,
            "outputs": []
        },
        {
            "cell_type": "code",
            "source": [
                "models = {\n",
                "    \"Linear Regression\": LinearRegression(),\n",
                "    \"Lasso\": Lasso(),\n",
                "    \"Ridge\": Ridge(),\n",
                "    \"K-Neighbors Regressor\": KNeighborsRegressor(),\n",
                "    \"Decision Tree\": DecisionTreeRegressor(),\n",
                "    \"Random Forest Regressor\": RandomForestRegressor(),\n",
                "    \"XGBRegressor\": XGBRegressor(),\n",
                "    \"CatBoosting Regressor\": CatBoostRegressor(verbose=False),\n",
                "    \"AdaBoost Regressor\": AdaBoostRegressor()\n",
                "}\n",
                "model_list = []\n",
                "r2_list =[]\n",
                "\n",
                "for i in range(len(list(models))):\n",
                "    model = list(models.values())[i]\n",
                "    model.fit(X_train, y_train) # Train model\n",
                "\n",
                "    # Make predictions\n",
                "    y_train_pred = model.predict(X_train)\n",
                "    y_test_pred = model.predict(X_test)\n",
                "\n",
                "    # Evaluate Train and Test dataset\n",
                "    model_train_mae , model_train_rmse, model_train_r2 = evaluate_model(y_train, y_train_pred)\n",
                "\n",
                "    model_test_mae , model_test_rmse, model_test_r2 = evaluate_model(y_test, y_test_pred)\n",
                "\n",
                "\n",
                "    print(list(models.keys())[i])\n",
                "    model_list.append(list(models.keys())[i])\n",
                "\n",
                "    print('Model performance for Training set')\n",
                "    print(\"- Root Mean Squared Error: {:.4f}\".format(model_train_rmse))\n",
                "    print(\"- Mean Absolute Error: {:.4f}\".format(model_train_mae))\n",
                "    print(\"- R2 Score: {:.4f}\".format(model_train_r2))\n",
                "\n",
                "    print('----------------------------------')\n",
                "\n",
                "    print('Model performance for Test set')\n",
                "    print(\"- Root Mean Squared Error: {:.4f}\".format(model_test_rmse))\n",
                "    print(\"- Mean Absolute Error: {:.4f}\".format(model_test_mae))\n",
                "    print(\"- R2 Score: {:.4f}\".format(model_test_r2))\n",
                "    r2_list.append(model_test_r2)\n",
                "\n",
                "    print('='*35)\n",
                "    print('\\n')"
            ],
            "metadata": {
                "id": "Tgt2Km5ll4EW"
            },
            "id": "Tgt2Km5ll4EW",
            "execution_count": null,
            "outputs": []
        },
        {
            "cell_type": "code",
            "source": [
                "pd.DataFrame(list(zip(model_list, r2_list)), columns=['Model Name', 'R2_Score']).sort_values(by=[\"R2_Score\"],ascending=False)\n"
            ],
            "metadata": {
                "id": "_-721o5tl8IY"
            },
            "id": "_-721o5tl8IY",
            "execution_count": null,
            "outputs": []
        },
        {
            "cell_type": "code",
            "source": [
                "lin_model = LinearRegression(fit_intercept=True)\n",
                "lin_model = lin_model.fit(X_train, y_train)\n",
                "y_pred = lin_model.predict(X_test)\n",
                "score = r2_score(y_test, y_pred)*100\n",
                "print(\" Accuracy of the model is %.2f\" %score)"
            ],
            "metadata": {
                "id": "np6rkHAgmAXF"
            },
            "id": "np6rkHAgmAXF",
            "execution_count": null,
            "outputs": []
        },
        {
            "cell_type": "code",
            "source": [
                "plt.scatter(y_test,y_pred);\n",
                "plt.xlabel('Actual');\n",
                "plt.ylabel('Predicted');"
            ],
            "metadata": {
                "id": "tJkAOdgfmB1t"
            },
            "id": "tJkAOdgfmB1t",
            "execution_count": null,
            "outputs": []
        },
        {
            "cell_type": "code",
            "source": [
                "sns.regplot(x=y_test,y=y_pred,ci=None,color ='red');\n"
            ],
            "metadata": {
                "id": "92BFdBXhmDdf"
            },
            "id": "92BFdBXhmDdf",
            "execution_count": null,
            "outputs": []
        },
        {
            "cell_type": "code",
            "source": [
                "pred_df=pd.DataFrame({'Actual Value':y_test,'Predicted Value':y_pred,'Difference':y_test-y_pred})\n",
                "pred_df"
            ],
            "metadata": {
                "id": "PVEqmfcpmFJ6"
            },
            "id": "PVEqmfcpmFJ6",
            "execution_count": null,
            "outputs": []
        },
        {
            "cell_type": "code",
            "source": [],
            "metadata": {
                "id": "bF8phCEimGgI"
            },
            "id": "bF8phCEimGgI",
            "execution_count": null,
            "outputs": []
        }
    ],
    "metadata": {
        "kernelspec": {
            "display_name": "Python 3 (ipykernel)",
            "language": "python",
            "name": "python3"
        },
        "language_info": {
            "codemirror_mode": {
                "name": "ipython",
                "version": 3
            },
            "file_extension": ".py",
            "mimetype": "text/x-python",
            "name": "python",
            "nbconvert_exporter": "python",
            "pygments_lexer": "ipython3",
            "version": "3.9.5"
        },
        "colab": {
            "provenance": []
        },
        "widgets": {
            "application/vnd.jupyter.widget-state+json": {
                "0432c83ac9a44d69988d4d2c8f15708b": {
                    "model_module": "@jupyter-widgets/output",
                    "model_name": "OutputModel",
                    "model_module_version": "1.0.0",
                    "state": {
                        "_dom_classes": [],
                        "_model_module": "@jupyter-widgets/output",
                        "_model_module_version": "1.0.0",
                        "_model_name": "OutputModel",
                        "_view_count": null,
                        "_view_module": "@jupyter-widgets/output",
                        "_view_module_version": "1.0.0",
                        "_view_name": "OutputView",
                        "layout": "IPY_MODEL_daa7ecd807974e2aadbd4a8394c15b85",
                        "msg_id": "",
                        "outputs": [
                            {
                                "output_type": "display_data",
                                "data": {
                                    "text/plain": "\u001b[32m\u280f\u001b[0m Waiting for authorization\n",
                                    "text/html": "<pre style=\"white-space:pre;overflow-x:auto;line-height:normal;font-family:Menlo,'DejaVu Sans Mono',consolas,'Courier New',monospace\"><span style=\"color: #008000; text-decoration-color: #008000\">\u280f</span> Waiting for authorization\n</pre>\n"
                                },
                                "metadata": {}
                            }
                        ]
                    }
                },
                "daa7ecd807974e2aadbd4a8394c15b85": {
                    "model_module": "@jupyter-widgets/base",
                    "model_name": "LayoutModel",
                    "model_module_version": "1.2.0",
                    "state": {
                        "_model_module": "@jupyter-widgets/base",
                        "_model_module_version": "1.2.0",
                        "_model_name": "LayoutModel",
                        "_view_count": null,
                        "_view_module": "@jupyter-widgets/base",
                        "_view_module_version": "1.2.0",
                        "_view_name": "LayoutView",
                        "align_content": null,
                        "align_items": null,
                        "align_self": null,
                        "border": null,
                        "bottom": null,
                        "display": null,
                        "flex": null,
                        "flex_flow": null,
                        "grid_area": null,
                        "grid_auto_columns": null,
                        "grid_auto_flow": null,
                        "grid_auto_rows": null,
                        "grid_column": null,
                        "grid_gap": null,
                        "grid_row": null,
                        "grid_template_areas": null,
                        "grid_template_columns": null,
                        "grid_template_rows": null,
                        "height": null,
                        "justify_content": null,
                        "justify_items": null,
                        "left": null,
                        "margin": null,
                        "max_height": null,
                        "max_width": null,
                        "min_height": null,
                        "min_width": null,
                        "object_fit": null,
                        "object_position": null,
                        "order": null,
                        "overflow": null,
                        "overflow_x": null,
                        "overflow_y": null,
                        "padding": null,
                        "right": null,
                        "top": null,
                        "visibility": null,
                        "width": null
                    }
                }
            }
        }
    },
    "nbformat": 4,
    "nbformat_minor": 5
}